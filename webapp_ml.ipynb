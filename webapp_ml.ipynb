{
 "cells": [
  {
   "cell_type": "code",
   "execution_count": 1,
   "metadata": {
    "ExecuteTime": {
     "end_time": "2023-07-14T10:22:43.459909Z",
     "start_time": "2023-07-14T10:22:43.456038Z"
    }
   },
   "outputs": [],
   "source": [
    "import pandas as pd\n",
    "import numpy as np\n",
    "import seaborn as sns\n",
    "import matplotlib.pyplot as plt"
   ]
  },
  {
   "cell_type": "code",
   "execution_count": 2,
   "metadata": {
    "ExecuteTime": {
     "end_time": "2023-07-14T10:22:52.197796Z",
     "start_time": "2023-07-14T10:22:50.843053Z"
    }
   },
   "outputs": [],
   "source": [
    "dataset=pd.read_csv(\"survey_results_public.csv\")"
   ]
  },
  {
   "cell_type": "code",
   "execution_count": 3,
   "metadata": {
    "ExecuteTime": {
     "end_time": "2023-07-14T10:22:55.224776Z",
     "start_time": "2023-07-14T10:22:55.201633Z"
    }
   },
   "outputs": [
    {
     "data": {
      "text/plain": "   ResponseId     Q120                      MainBranch              Age  \\\n0           1  I agree                   None of these  18-24 years old   \n1           2  I agree  I am a developer by profession  25-34 years old   \n2           3  I agree  I am a developer by profession  45-54 years old   \n3           4  I agree  I am a developer by profession  25-34 years old   \n4           5  I agree  I am a developer by profession  25-34 years old   \n\n                                          Employment  \\\n0                                                NaN   \n1                                Employed, full-time   \n2                                Employed, full-time   \n3                                Employed, full-time   \n4  Employed, full-time;Independent contractor, fr...   \n\n                             RemoteWork  \\\n0                                   NaN   \n1                                Remote   \n2  Hybrid (some remote, some in-person)   \n3  Hybrid (some remote, some in-person)   \n4                                Remote   \n\n                                    CodingActivities  \\\n0                                                NaN   \n1  Hobby;Contribute to open-source projects;Boots...   \n2  Hobby;Professional development or self-paced l...   \n3                                              Hobby   \n4  Hobby;Contribute to open-source projects;Profe...   \n\n                                        EdLevel  \\\n0                                           NaN   \n1  Bachelor’s degree (B.A., B.S., B.Eng., etc.)   \n2  Bachelor’s degree (B.A., B.S., B.Eng., etc.)   \n3  Bachelor’s degree (B.A., B.S., B.Eng., etc.)   \n4  Bachelor’s degree (B.A., B.S., B.Eng., etc.)   \n\n                                           LearnCode  \\\n0                                                NaN   \n1  Books / Physical media;Colleague;Friend or fam...   \n2  Books / Physical media;Colleague;On the job tr...   \n3  Colleague;Friend or family member;Other online...   \n4  Books / Physical media;Online Courses or Certi...   \n\n                                     LearnCodeOnline  ...        Frequency_1  \\\n0                                                NaN  ...                NaN   \n1  Formal documentation provided by the owner of ...  ...   1-2 times a week   \n2  Formal documentation provided by the owner of ...  ...  6-10 times a week   \n3  Formal documentation provided by the owner of ...  ...   1-2 times a week   \n4  Formal documentation provided by the owner of ...  ...   1-2 times a week   \n\n         Frequency_2       Frequency_3         TimeSearching  \\\n0                NaN               NaN                   NaN   \n1   10+ times a week             Never   15-30 minutes a day   \n2  6-10 times a week  3-5 times a week   30-60 minutes a day   \n3   10+ times a week  1-2 times a week   15-30 minutes a day   \n4   1-2 times a week  3-5 times a week  60-120 minutes a day   \n\n         TimeAnswering                                   ProfessionalTech  \\\n0                  NaN                                                NaN   \n1  15-30 minutes a day  DevOps function;Microservices;Automated testin...   \n2  30-60 minutes a day  DevOps function;Microservices;Automated testin...   \n3  30-60 minutes a day  Automated testing;Continuous integration (CI) ...   \n4  30-60 minutes a day  Microservices;Automated testing;Observability ...   \n\n                                            Industry           SurveyLength  \\\n0                                                NaN                    NaN   \n1  Information Services, IT, Software Development...  Appropriate in length   \n2  Information Services, IT, Software Development...  Appropriate in length   \n3                                                NaN  Appropriate in length   \n4                                              Other  Appropriate in length   \n\n                   SurveyEase ConvertedCompYearly  \n0                         NaN                 NaN  \n1                        Easy            285000.0  \n2                        Easy            250000.0  \n3                        Easy            156000.0  \n4  Neither easy nor difficult             23456.0  \n\n[5 rows x 84 columns]",
      "text/html": "<div>\n<style scoped>\n    .dataframe tbody tr th:only-of-type {\n        vertical-align: middle;\n    }\n\n    .dataframe tbody tr th {\n        vertical-align: top;\n    }\n\n    .dataframe thead th {\n        text-align: right;\n    }\n</style>\n<table border=\"1\" class=\"dataframe\">\n  <thead>\n    <tr style=\"text-align: right;\">\n      <th></th>\n      <th>ResponseId</th>\n      <th>Q120</th>\n      <th>MainBranch</th>\n      <th>Age</th>\n      <th>Employment</th>\n      <th>RemoteWork</th>\n      <th>CodingActivities</th>\n      <th>EdLevel</th>\n      <th>LearnCode</th>\n      <th>LearnCodeOnline</th>\n      <th>...</th>\n      <th>Frequency_1</th>\n      <th>Frequency_2</th>\n      <th>Frequency_3</th>\n      <th>TimeSearching</th>\n      <th>TimeAnswering</th>\n      <th>ProfessionalTech</th>\n      <th>Industry</th>\n      <th>SurveyLength</th>\n      <th>SurveyEase</th>\n      <th>ConvertedCompYearly</th>\n    </tr>\n  </thead>\n  <tbody>\n    <tr>\n      <th>0</th>\n      <td>1</td>\n      <td>I agree</td>\n      <td>None of these</td>\n      <td>18-24 years old</td>\n      <td>NaN</td>\n      <td>NaN</td>\n      <td>NaN</td>\n      <td>NaN</td>\n      <td>NaN</td>\n      <td>NaN</td>\n      <td>...</td>\n      <td>NaN</td>\n      <td>NaN</td>\n      <td>NaN</td>\n      <td>NaN</td>\n      <td>NaN</td>\n      <td>NaN</td>\n      <td>NaN</td>\n      <td>NaN</td>\n      <td>NaN</td>\n      <td>NaN</td>\n    </tr>\n    <tr>\n      <th>1</th>\n      <td>2</td>\n      <td>I agree</td>\n      <td>I am a developer by profession</td>\n      <td>25-34 years old</td>\n      <td>Employed, full-time</td>\n      <td>Remote</td>\n      <td>Hobby;Contribute to open-source projects;Boots...</td>\n      <td>Bachelor’s degree (B.A., B.S., B.Eng., etc.)</td>\n      <td>Books / Physical media;Colleague;Friend or fam...</td>\n      <td>Formal documentation provided by the owner of ...</td>\n      <td>...</td>\n      <td>1-2 times a week</td>\n      <td>10+ times a week</td>\n      <td>Never</td>\n      <td>15-30 minutes a day</td>\n      <td>15-30 minutes a day</td>\n      <td>DevOps function;Microservices;Automated testin...</td>\n      <td>Information Services, IT, Software Development...</td>\n      <td>Appropriate in length</td>\n      <td>Easy</td>\n      <td>285000.0</td>\n    </tr>\n    <tr>\n      <th>2</th>\n      <td>3</td>\n      <td>I agree</td>\n      <td>I am a developer by profession</td>\n      <td>45-54 years old</td>\n      <td>Employed, full-time</td>\n      <td>Hybrid (some remote, some in-person)</td>\n      <td>Hobby;Professional development or self-paced l...</td>\n      <td>Bachelor’s degree (B.A., B.S., B.Eng., etc.)</td>\n      <td>Books / Physical media;Colleague;On the job tr...</td>\n      <td>Formal documentation provided by the owner of ...</td>\n      <td>...</td>\n      <td>6-10 times a week</td>\n      <td>6-10 times a week</td>\n      <td>3-5 times a week</td>\n      <td>30-60 minutes a day</td>\n      <td>30-60 minutes a day</td>\n      <td>DevOps function;Microservices;Automated testin...</td>\n      <td>Information Services, IT, Software Development...</td>\n      <td>Appropriate in length</td>\n      <td>Easy</td>\n      <td>250000.0</td>\n    </tr>\n    <tr>\n      <th>3</th>\n      <td>4</td>\n      <td>I agree</td>\n      <td>I am a developer by profession</td>\n      <td>25-34 years old</td>\n      <td>Employed, full-time</td>\n      <td>Hybrid (some remote, some in-person)</td>\n      <td>Hobby</td>\n      <td>Bachelor’s degree (B.A., B.S., B.Eng., etc.)</td>\n      <td>Colleague;Friend or family member;Other online...</td>\n      <td>Formal documentation provided by the owner of ...</td>\n      <td>...</td>\n      <td>1-2 times a week</td>\n      <td>10+ times a week</td>\n      <td>1-2 times a week</td>\n      <td>15-30 minutes a day</td>\n      <td>30-60 minutes a day</td>\n      <td>Automated testing;Continuous integration (CI) ...</td>\n      <td>NaN</td>\n      <td>Appropriate in length</td>\n      <td>Easy</td>\n      <td>156000.0</td>\n    </tr>\n    <tr>\n      <th>4</th>\n      <td>5</td>\n      <td>I agree</td>\n      <td>I am a developer by profession</td>\n      <td>25-34 years old</td>\n      <td>Employed, full-time;Independent contractor, fr...</td>\n      <td>Remote</td>\n      <td>Hobby;Contribute to open-source projects;Profe...</td>\n      <td>Bachelor’s degree (B.A., B.S., B.Eng., etc.)</td>\n      <td>Books / Physical media;Online Courses or Certi...</td>\n      <td>Formal documentation provided by the owner of ...</td>\n      <td>...</td>\n      <td>1-2 times a week</td>\n      <td>1-2 times a week</td>\n      <td>3-5 times a week</td>\n      <td>60-120 minutes a day</td>\n      <td>30-60 minutes a day</td>\n      <td>Microservices;Automated testing;Observability ...</td>\n      <td>Other</td>\n      <td>Appropriate in length</td>\n      <td>Neither easy nor difficult</td>\n      <td>23456.0</td>\n    </tr>\n  </tbody>\n</table>\n<p>5 rows × 84 columns</p>\n</div>"
     },
     "execution_count": 3,
     "metadata": {},
     "output_type": "execute_result"
    }
   ],
   "source": [
    "dataset.head()"
   ]
  },
  {
   "cell_type": "code",
   "execution_count": 4,
   "metadata": {
    "ExecuteTime": {
     "end_time": "2023-07-14T10:23:20.287178Z",
     "start_time": "2023-07-14T10:23:20.276663Z"
    }
   },
   "outputs": [
    {
     "name": "stdout",
     "output_type": "stream",
     "text": [
      "<class 'pandas.core.frame.DataFrame'>\n",
      "RangeIndex: 89184 entries, 0 to 89183\n",
      "Data columns (total 84 columns):\n",
      " #   Column                               Non-Null Count  Dtype  \n",
      "---  ------                               --------------  -----  \n",
      " 0   ResponseId                           89184 non-null  int64  \n",
      " 1   Q120                                 89184 non-null  object \n",
      " 2   MainBranch                           89184 non-null  object \n",
      " 3   Age                                  89184 non-null  object \n",
      " 4   Employment                           87898 non-null  object \n",
      " 5   RemoteWork                           73810 non-null  object \n",
      " 6   CodingActivities                     73764 non-null  object \n",
      " 7   EdLevel                              87973 non-null  object \n",
      " 8   LearnCode                            87663 non-null  object \n",
      " 9   LearnCodeOnline                      70084 non-null  object \n",
      " 10  LearnCodeCoursesCert                 37076 non-null  object \n",
      " 11  YearsCode                            87435 non-null  object \n",
      " 12  YearsCodePro                         66136 non-null  object \n",
      " 13  DevType                              76872 non-null  object \n",
      " 14  OrgSize                              65043 non-null  object \n",
      " 15  PurchaseInfluence                    64964 non-null  object \n",
      " 16  TechList                             60851 non-null  object \n",
      " 17  BuyNewTool                           83009 non-null  object \n",
      " 18  Country                              87973 non-null  object \n",
      " 19  Currency                             65334 non-null  object \n",
      " 20  CompTotal                            48225 non-null  float64\n",
      " 21  LanguageHaveWorkedWith               87140 non-null  object \n",
      " 22  LanguageWantToWorkWith               80709 non-null  object \n",
      " 23  DatabaseHaveWorkedWith               73435 non-null  object \n",
      " 24  DatabaseWantToWorkWith               60911 non-null  object \n",
      " 25  PlatformHaveWorkedWith               63628 non-null  object \n",
      " 26  PlatformWantToWorkWith               51308 non-null  object \n",
      " 27  WebframeHaveWorkedWith               66938 non-null  object \n",
      " 28  WebframeWantToWorkWith               56741 non-null  object \n",
      " 29  MiscTechHaveWorkedWith               57019 non-null  object \n",
      " 30  MiscTechWantToWorkWith               46848 non-null  object \n",
      " 31  ToolsTechHaveWorkedWith              77884 non-null  object \n",
      " 32  ToolsTechWantToWorkWith              68315 non-null  object \n",
      " 33  NEWCollabToolsHaveWorkedWith         85864 non-null  object \n",
      " 34  NEWCollabToolsWantToWorkWith         76649 non-null  object \n",
      " 35  OpSysPersonal use                    86557 non-null  object \n",
      " 36  OpSysProfessional use                78587 non-null  object \n",
      " 37  OfficeStackAsyncHaveWorkedWith       69090 non-null  object \n",
      " 38  OfficeStackAsyncWantToWorkWith       53743 non-null  object \n",
      " 39  OfficeStackSyncHaveWorkedWith        83439 non-null  object \n",
      " 40  OfficeStackSyncWantToWorkWith        69776 non-null  object \n",
      " 41  AISearchHaveWorkedWith               56328 non-null  object \n",
      " 42  AISearchWantToWorkWith               46150 non-null  object \n",
      " 43  AIDevHaveWorkedWith                  25904 non-null  object \n",
      " 44  AIDevWantToWorkWith                  19587 non-null  object \n",
      " 45  NEWSOSites                           87973 non-null  object \n",
      " 46  SOVisitFreq                          87140 non-null  object \n",
      " 47  SOAccount                            87852 non-null  object \n",
      " 48  SOPartFreq                           66061 non-null  object \n",
      " 49  SOComm                               87692 non-null  object \n",
      " 50  SOAI                                 47858 non-null  object \n",
      " 51  AISelect                             87973 non-null  object \n",
      " 52  AISent                               61501 non-null  object \n",
      " 53  AIAcc                                38594 non-null  object \n",
      " 54  AIBen                                61396 non-null  object \n",
      " 55  AIToolInterested in Using            32783 non-null  object \n",
      " 56  AIToolCurrently Using                36137 non-null  object \n",
      " 57  AIToolNot interested in Using        21069 non-null  object \n",
      " 58  AINextVery different                 12661 non-null  object \n",
      " 59  AINextNeither different nor similar  6599 non-null   object \n",
      " 60  AINextSomewhat similar               6238 non-null   object \n",
      " 61  AINextVery similar                   2621 non-null   object \n",
      " 62  AINextSomewhat different             23303 non-null  object \n",
      " 63  TBranch                              65768 non-null  object \n",
      " 64  ICorPM                               43668 non-null  object \n",
      " 65  WorkExp                              43579 non-null  float64\n",
      " 66  Knowledge_1                          42535 non-null  object \n",
      " 67  Knowledge_2                          41670 non-null  object \n",
      " 68  Knowledge_3                          41798 non-null  object \n",
      " 69  Knowledge_4                          41684 non-null  object \n",
      " 70  Knowledge_5                          41527 non-null  object \n",
      " 71  Knowledge_6                          41520 non-null  object \n",
      " 72  Knowledge_7                          41467 non-null  object \n",
      " 73  Knowledge_8                          41404 non-null  object \n",
      " 74  Frequency_1                          41916 non-null  object \n",
      " 75  Frequency_2                          41925 non-null  object \n",
      " 76  Frequency_3                          41054 non-null  object \n",
      " 77  TimeSearching                        42778 non-null  object \n",
      " 78  TimeAnswering                        42629 non-null  object \n",
      " 79  ProfessionalTech                     41783 non-null  object \n",
      " 80  Industry                             36774 non-null  object \n",
      " 81  SurveyLength                         86485 non-null  object \n",
      " 82  SurveyEase                           86554 non-null  object \n",
      " 83  ConvertedCompYearly                  48019 non-null  float64\n",
      "dtypes: float64(3), int64(1), object(80)\n",
      "memory usage: 57.2+ MB\n"
     ]
    }
   ],
   "source": [
    "dataset.info()"
   ]
  },
  {
   "cell_type": "code",
   "execution_count": 5,
   "metadata": {
    "ExecuteTime": {
     "end_time": "2023-07-14T10:23:24.013366Z",
     "start_time": "2023-07-14T10:23:24.004472Z"
    }
   },
   "outputs": [],
   "source": [
    "df=dataset[[\"Country\",\"EdLevel\",\"YearsCodePro\",\"Employment\",\"ConvertedCompYearly\"]]"
   ]
  },
  {
   "cell_type": "code",
   "execution_count": 6,
   "metadata": {
    "ExecuteTime": {
     "end_time": "2023-07-14T10:23:27.475463Z",
     "start_time": "2023-07-14T10:23:27.461964Z"
    }
   },
   "outputs": [
    {
     "data": {
      "text/plain": "                    Country                                       EdLevel  \\\n0                       NaN                                           NaN   \n1  United States of America  Bachelor’s degree (B.A., B.S., B.Eng., etc.)   \n2  United States of America  Bachelor’s degree (B.A., B.S., B.Eng., etc.)   \n3  United States of America  Bachelor’s degree (B.A., B.S., B.Eng., etc.)   \n4               Philippines  Bachelor’s degree (B.A., B.S., B.Eng., etc.)   \n\n  YearsCodePro                                         Employment  \\\n0          NaN                                                NaN   \n1            9                                Employed, full-time   \n2           23                                Employed, full-time   \n3            7                                Employed, full-time   \n4            4  Employed, full-time;Independent contractor, fr...   \n\n   ConvertedCompYearly  \n0                  NaN  \n1             285000.0  \n2             250000.0  \n3             156000.0  \n4              23456.0  ",
      "text/html": "<div>\n<style scoped>\n    .dataframe tbody tr th:only-of-type {\n        vertical-align: middle;\n    }\n\n    .dataframe tbody tr th {\n        vertical-align: top;\n    }\n\n    .dataframe thead th {\n        text-align: right;\n    }\n</style>\n<table border=\"1\" class=\"dataframe\">\n  <thead>\n    <tr style=\"text-align: right;\">\n      <th></th>\n      <th>Country</th>\n      <th>EdLevel</th>\n      <th>YearsCodePro</th>\n      <th>Employment</th>\n      <th>ConvertedCompYearly</th>\n    </tr>\n  </thead>\n  <tbody>\n    <tr>\n      <th>0</th>\n      <td>NaN</td>\n      <td>NaN</td>\n      <td>NaN</td>\n      <td>NaN</td>\n      <td>NaN</td>\n    </tr>\n    <tr>\n      <th>1</th>\n      <td>United States of America</td>\n      <td>Bachelor’s degree (B.A., B.S., B.Eng., etc.)</td>\n      <td>9</td>\n      <td>Employed, full-time</td>\n      <td>285000.0</td>\n    </tr>\n    <tr>\n      <th>2</th>\n      <td>United States of America</td>\n      <td>Bachelor’s degree (B.A., B.S., B.Eng., etc.)</td>\n      <td>23</td>\n      <td>Employed, full-time</td>\n      <td>250000.0</td>\n    </tr>\n    <tr>\n      <th>3</th>\n      <td>United States of America</td>\n      <td>Bachelor’s degree (B.A., B.S., B.Eng., etc.)</td>\n      <td>7</td>\n      <td>Employed, full-time</td>\n      <td>156000.0</td>\n    </tr>\n    <tr>\n      <th>4</th>\n      <td>Philippines</td>\n      <td>Bachelor’s degree (B.A., B.S., B.Eng., etc.)</td>\n      <td>4</td>\n      <td>Employed, full-time;Independent contractor, fr...</td>\n      <td>23456.0</td>\n    </tr>\n  </tbody>\n</table>\n</div>"
     },
     "execution_count": 6,
     "metadata": {},
     "output_type": "execute_result"
    }
   ],
   "source": [
    "df.head()"
   ]
  },
  {
   "cell_type": "code",
   "execution_count": 7,
   "metadata": {
    "ExecuteTime": {
     "end_time": "2023-07-14T10:23:33.565895Z",
     "start_time": "2023-07-14T10:23:33.543279Z"
    }
   },
   "outputs": [],
   "source": [
    "df=df.rename({\"ConvertedCompYearly\":\"Salary\"},axis=1)"
   ]
  },
  {
   "cell_type": "code",
   "execution_count": 8,
   "metadata": {
    "ExecuteTime": {
     "end_time": "2023-07-14T10:23:36.341366Z",
     "start_time": "2023-07-14T10:23:36.335762Z"
    }
   },
   "outputs": [
    {
     "data": {
      "text/plain": "(89184, 5)"
     },
     "execution_count": 8,
     "metadata": {},
     "output_type": "execute_result"
    }
   ],
   "source": [
    "df.shape"
   ]
  },
  {
   "cell_type": "code",
   "execution_count": 9,
   "metadata": {
    "ExecuteTime": {
     "end_time": "2023-07-14T10:23:39.502155Z",
     "start_time": "2023-07-14T10:23:39.110239Z"
    }
   },
   "outputs": [
    {
     "data": {
      "text/plain": "<Axes: >"
     },
     "execution_count": 9,
     "metadata": {},
     "output_type": "execute_result"
    },
    {
     "data": {
      "text/plain": "<Figure size 640x480 with 1 Axes>",
      "image/png": "[encoded data removed]"
     },
     "metadata": {},
     "output_type": "display_data"
    }
   ],
   "source": [
    "sns.heatmap(df.isnull(),yticklabels=False,cbar=False,cmap='viridis')"
   ]
  },
  {
   "cell_type": "code",
   "execution_count": 10,
   "metadata": {
    "ExecuteTime": {
     "end_time": "2023-07-14T10:23:42.390716Z",
     "start_time": "2023-07-14T10:23:42.378273Z"
    }
   },
   "outputs": [
    {
     "data": {
      "text/plain": "                                             Country  \\\n1                           United States of America   \n2                           United States of America   \n3                           United States of America   \n4                                        Philippines   \n5  United Kingdom of Great Britain and Northern I...   \n\n                                             EdLevel YearsCodePro  \\\n1       Bachelor’s degree (B.A., B.S., B.Eng., etc.)            9   \n2       Bachelor’s degree (B.A., B.S., B.Eng., etc.)           23   \n3       Bachelor’s degree (B.A., B.S., B.Eng., etc.)            7   \n4       Bachelor’s degree (B.A., B.S., B.Eng., etc.)            4   \n5  Some college/university study without earning ...           21   \n\n                                          Employment    Salary  \n1                                Employed, full-time  285000.0  \n2                                Employed, full-time  250000.0  \n3                                Employed, full-time  156000.0  \n4  Employed, full-time;Independent contractor, fr...   23456.0  \n5                                Employed, full-time   96828.0  ",
      "text/html": "<div>\n<style scoped>\n    .dataframe tbody tr th:only-of-type {\n        vertical-align: middle;\n    }\n\n    .dataframe tbody tr th {\n        vertical-align: top;\n    }\n\n    .dataframe thead th {\n        text-align: right;\n    }\n</style>\n<table border=\"1\" class=\"dataframe\">\n  <thead>\n    <tr style=\"text-align: right;\">\n      <th></th>\n      <th>Country</th>\n      <th>EdLevel</th>\n      <th>YearsCodePro</th>\n      <th>Employment</th>\n      <th>Salary</th>\n    </tr>\n  </thead>\n  <tbody>\n    <tr>\n      <th>1</th>\n      <td>United States of America</td>\n      <td>Bachelor’s degree (B.A., B.S., B.Eng., etc.)</td>\n      <td>9</td>\n      <td>Employed, full-time</td>\n      <td>285000.0</td>\n    </tr>\n    <tr>\n      <th>2</th>\n      <td>United States of America</td>\n      <td>Bachelor’s degree (B.A., B.S., B.Eng., etc.)</td>\n      <td>23</td>\n      <td>Employed, full-time</td>\n      <td>250000.0</td>\n    </tr>\n    <tr>\n      <th>3</th>\n      <td>United States of America</td>\n      <td>Bachelor’s degree (B.A., B.S., B.Eng., etc.)</td>\n      <td>7</td>\n      <td>Employed, full-time</td>\n      <td>156000.0</td>\n    </tr>\n    <tr>\n      <th>4</th>\n      <td>Philippines</td>\n      <td>Bachelor’s degree (B.A., B.S., B.Eng., etc.)</td>\n      <td>4</td>\n      <td>Employed, full-time;Independent contractor, fr...</td>\n      <td>23456.0</td>\n    </tr>\n    <tr>\n      <th>5</th>\n      <td>United Kingdom of Great Britain and Northern I...</td>\n      <td>Some college/university study without earning ...</td>\n      <td>21</td>\n      <td>Employed, full-time</td>\n      <td>96828.0</td>\n    </tr>\n  </tbody>\n</table>\n</div>"
     },
     "execution_count": 10,
     "metadata": {},
     "output_type": "execute_result"
    }
   ],
   "source": [
    "df=df[df[\"Salary\"].notnull()]\n",
    "df.head()"
   ]
  },
  {
   "cell_type": "code",
   "execution_count": 11,
   "metadata": {
    "ExecuteTime": {
     "end_time": "2023-07-14T10:23:45.974475Z",
     "start_time": "2023-07-14T10:23:45.778388Z"
    }
   },
   "outputs": [
    {
     "data": {
      "text/plain": "<Axes: >"
     },
     "execution_count": 11,
     "metadata": {},
     "output_type": "execute_result"
    },
    {
     "data": {
      "text/plain": "<Figure size 640x480 with 1 Axes>",
      "image/png": "[encoded data removed]"
     },
     "metadata": {},
     "output_type": "display_data"
    }
   ],
   "source": [
    "sns.heatmap(df.isnull(),yticklabels=False,cbar=False,cmap='viridis')"
   ]
  },
  {
   "cell_type": "code",
   "execution_count": 12,
   "metadata": {
    "ExecuteTime": {
     "end_time": "2023-07-14T10:23:53.176439Z",
     "start_time": "2023-07-14T10:23:53.170581Z"
    }
   },
   "outputs": [
    {
     "name": "stdout",
     "output_type": "stream",
     "text": [
      "<class 'pandas.core.frame.DataFrame'>\n",
      "Index: 48019 entries, 1 to 89171\n",
      "Data columns (total 5 columns):\n",
      " #   Column        Non-Null Count  Dtype  \n",
      "---  ------        --------------  -----  \n",
      " 0   Country       48019 non-null  object \n",
      " 1   EdLevel       48019 non-null  object \n",
      " 2   YearsCodePro  47825 non-null  object \n",
      " 3   Employment    48007 non-null  object \n",
      " 4   Salary        48019 non-null  float64\n",
      "dtypes: float64(1), object(4)\n",
      "memory usage: 2.2+ MB\n"
     ]
    }
   ],
   "source": [
    "df.info()"
   ]
  },
  {
   "cell_type": "code",
   "execution_count": 13,
   "metadata": {
    "ExecuteTime": {
     "end_time": "2023-07-14T10:23:56.082615Z",
     "start_time": "2023-07-14T10:23:56.060862Z"
    }
   },
   "outputs": [
    {
     "data": {
      "text/plain": "Country         0\nEdLevel         0\nYearsCodePro    0\nEmployment      0\nSalary          0\ndtype: int64"
     },
     "execution_count": 13,
     "metadata": {},
     "output_type": "execute_result"
    }
   ],
   "source": [
    "df=df.dropna()\n",
    "df.isnull().sum()"
   ]
  },
  {
   "cell_type": "code",
   "execution_count": 14,
   "metadata": {
    "ExecuteTime": {
     "end_time": "2023-07-14T10:24:03.064091Z",
     "start_time": "2023-07-14T10:24:03.059844Z"
    }
   },
   "outputs": [
    {
     "data": {
      "text/plain": "                                             Country  \\\n1                           United States of America   \n2                           United States of America   \n3                           United States of America   \n4                                        Philippines   \n5  United Kingdom of Great Britain and Northern I...   \n\n                                             EdLevel YearsCodePro  \\\n1       Bachelor’s degree (B.A., B.S., B.Eng., etc.)            9   \n2       Bachelor’s degree (B.A., B.S., B.Eng., etc.)           23   \n3       Bachelor’s degree (B.A., B.S., B.Eng., etc.)            7   \n4       Bachelor’s degree (B.A., B.S., B.Eng., etc.)            4   \n5  Some college/university study without earning ...           21   \n\n                                          Employment    Salary  \n1                                Employed, full-time  285000.0  \n2                                Employed, full-time  250000.0  \n3                                Employed, full-time  156000.0  \n4  Employed, full-time;Independent contractor, fr...   23456.0  \n5                                Employed, full-time   96828.0  ",
      "text/html": "<div>\n<style scoped>\n    .dataframe tbody tr th:only-of-type {\n        vertical-align: middle;\n    }\n\n    .dataframe tbody tr th {\n        vertical-align: top;\n    }\n\n    .dataframe thead th {\n        text-align: right;\n    }\n</style>\n<table border=\"1\" class=\"dataframe\">\n  <thead>\n    <tr style=\"text-align: right;\">\n      <th></th>\n      <th>Country</th>\n      <th>EdLevel</th>\n      <th>YearsCodePro</th>\n      <th>Employment</th>\n      <th>Salary</th>\n    </tr>\n  </thead>\n  <tbody>\n    <tr>\n      <th>1</th>\n      <td>United States of America</td>\n      <td>Bachelor’s degree (B.A., B.S., B.Eng., etc.)</td>\n      <td>9</td>\n      <td>Employed, full-time</td>\n      <td>285000.0</td>\n    </tr>\n    <tr>\n      <th>2</th>\n      <td>United States of America</td>\n      <td>Bachelor’s degree (B.A., B.S., B.Eng., etc.)</td>\n      <td>23</td>\n      <td>Employed, full-time</td>\n      <td>250000.0</td>\n    </tr>\n    <tr>\n      <th>3</th>\n      <td>United States of America</td>\n      <td>Bachelor’s degree (B.A., B.S., B.Eng., etc.)</td>\n      <td>7</td>\n      <td>Employed, full-time</td>\n      <td>156000.0</td>\n    </tr>\n    <tr>\n      <th>4</th>\n      <td>Philippines</td>\n      <td>Bachelor’s degree (B.A., B.S., B.Eng., etc.)</td>\n      <td>4</td>\n      <td>Employed, full-time;Independent contractor, fr...</td>\n      <td>23456.0</td>\n    </tr>\n    <tr>\n      <th>5</th>\n      <td>United Kingdom of Great Britain and Northern I...</td>\n      <td>Some college/university study without earning ...</td>\n      <td>21</td>\n      <td>Employed, full-time</td>\n      <td>96828.0</td>\n    </tr>\n  </tbody>\n</table>\n</div>"
     },
     "execution_count": 14,
     "metadata": {},
     "output_type": "execute_result"
    }
   ],
   "source": [
    "df.head()"
   ]
  },
  {
   "cell_type": "code",
   "execution_count": 15,
   "metadata": {
    "ExecuteTime": {
     "end_time": "2023-07-14T10:24:07.082867Z",
     "start_time": "2023-07-14T10:24:07.024898Z"
    }
   },
   "outputs": [
    {
     "name": "stdout",
     "output_type": "stream",
     "text": [
      "<class 'pandas.core.frame.DataFrame'>\n",
      "Index: 39155 entries, 1 to 89171\n",
      "Data columns (total 4 columns):\n",
      " #   Column        Non-Null Count  Dtype  \n",
      "---  ------        --------------  -----  \n",
      " 0   Country       39155 non-null  object \n",
      " 1   EdLevel       39155 non-null  object \n",
      " 2   YearsCodePro  39155 non-null  object \n",
      " 3   Salary        39155 non-null  float64\n",
      "dtypes: float64(1), object(3)\n",
      "memory usage: 1.5+ MB\n"
     ]
    }
   ],
   "source": [
    "df=df[df[\"Employment\"]==\"Employed, full-time\"]\n",
    "df=df.drop(\"Employment\",axis=1)\n",
    "df.info()"
   ]
  },
  {
   "cell_type": "code",
   "execution_count": 488,
   "metadata": {},
   "outputs": [
    {
     "data": {
      "text/plain": [
       "Country\n",
       "United States of America                                7858\n",
       "Germany                                                 2382\n",
       "United Kingdom of Great Britain and Northern Ireland    2341\n",
       "India                                                   1869\n",
       "Canada                                                  1249\n",
       "                                                        ... \n",
       "Haiti                                                      1\n",
       "Zambia                                                     1\n",
       "Suriname                                                   1\n",
       "Somalia                                                    1\n",
       "Seychelles                                                 1\n",
       "Name: count, Length: 155, dtype: int64"
      ]
     },
     "execution_count": 488,
     "metadata": {},
     "output_type": "execute_result"
    }
   ],
   "source": [
    "df['Country'].value_counts()"
   ]
  },
  {
   "cell_type": "code",
   "execution_count": 16,
   "metadata": {
    "ExecuteTime": {
     "end_time": "2023-07-14T10:24:10.890570Z",
     "start_time": "2023-07-14T10:24:10.885290Z"
    }
   },
   "outputs": [],
   "source": [
    "def shorten_categories(categories,cutoff):\n",
    "    categorial_map={}\n",
    "    for i in range(len(categories)):\n",
    "        if(categories.values[i]>=cutoff):\n",
    "            categorial_map[categories.index[i]]=categories.index[i]\n",
    "        else:\n",
    "            categorial_map[categories.index[i]]=\"others\"\n",
    "    return categorial_map\n"
   ]
  },
  {
   "cell_type": "code",
   "execution_count": 17,
   "metadata": {
    "ExecuteTime": {
     "end_time": "2023-07-14T10:24:14.721370Z",
     "start_time": "2023-07-14T10:24:14.712258Z"
    }
   },
   "outputs": [],
   "source": [
    "country_map=shorten_categories(df.Country.value_counts(),400)"
   ]
  },
  {
   "cell_type": "code",
   "execution_count": 18,
   "metadata": {
    "ExecuteTime": {
     "end_time": "2023-07-14T10:24:17.244522Z",
     "start_time": "2023-07-14T10:24:17.236479Z"
    }
   },
   "outputs": [],
   "source": [
    "df['Country']=df['Country'].map(country_map)"
   ]
  },
  {
   "cell_type": "code",
   "execution_count": 19,
   "metadata": {
    "ExecuteTime": {
     "end_time": "2023-07-14T10:24:20.017205Z",
     "start_time": "2023-07-14T10:24:20.012139Z"
    }
   },
   "outputs": [
    {
     "data": {
      "text/plain": "1                                 United States of America\n2                                 United States of America\n3                                 United States of America\n5        United Kingdom of Great Britain and Northern I...\n6                                 United States of America\n                               ...                        \n89160                                               others\n89162                                               Brazil\n89167                                                India\n89170                                               France\n89171                                               others\nName: Country, Length: 39155, dtype: object"
     },
     "execution_count": 19,
     "metadata": {},
     "output_type": "execute_result"
    }
   ],
   "source": [
    "df['Country']"
   ]
  },
  {
   "cell_type": "code",
   "execution_count": 20,
   "metadata": {
    "ExecuteTime": {
     "end_time": "2023-07-14T10:24:26.048590Z",
     "start_time": "2023-07-14T10:24:26.028449Z"
    }
   },
   "outputs": [
    {
     "name": "stdout",
     "output_type": "stream",
     "text": [
      "<class 'pandas.core.series.Series'>\n",
      "Index: 39155 entries, 1 to 89171\n",
      "Series name: Country\n",
      "Non-Null Count  Dtype \n",
      "--------------  ----- \n",
      "39155 non-null  object\n",
      "dtypes: object(1)\n",
      "memory usage: 611.8+ KB\n"
     ]
    }
   ],
   "source": [
    "df['Country'].info()"
   ]
  },
  {
   "cell_type": "code",
   "execution_count": 21,
   "metadata": {
    "ExecuteTime": {
     "end_time": "2023-07-14T10:24:33.446617Z",
     "start_time": "2023-07-14T10:24:33.432027Z"
    }
   },
   "outputs": [
    {
     "data": {
      "text/plain": "array(['United States of America',\n       'United Kingdom of Great Britain and Northern Ireland', 'others',\n       'Australia', 'Netherlands', 'Germany', 'Sweden', 'France', 'Spain',\n       'Brazil', 'Italy', 'Canada', 'Switzerland', 'India', 'Norway',\n       'Denmark', 'Israel', 'Poland'], dtype=object)"
     },
     "execution_count": 21,
     "metadata": {},
     "output_type": "execute_result"
    }
   ],
   "source": [
    "df['Country'].value_counts()\n",
    "df['Country'].unique()"
   ]
  },
  {
   "cell_type": "code",
   "execution_count": 22,
   "metadata": {
    "ExecuteTime": {
     "end_time": "2023-07-14T10:24:40.148940Z",
     "start_time": "2023-07-14T10:24:39.950648Z"
    }
   },
   "outputs": [
    {
     "data": {
      "text/plain": "<Figure size 1200x700 with 1 Axes>",
      "image/png": "[encoded data removed]"
     },
     "metadata": {},
     "output_type": "display_data"
    }
   ],
   "source": [
    "fig,ax =plt.subplots(1,1,figsize=(12,7))\n",
    "df.boxplot('Salary','Country',ax=ax)\n",
    "plt.suptitle('Salary(US$) v Country')\n",
    "plt.title('')\n",
    "plt.ylabel('Salary')\n",
    "plt.xticks(rotation=90)\n",
    "plt.show()"
   ]
  },
  {
   "cell_type": "code",
   "execution_count": 23,
   "metadata": {
    "ExecuteTime": {
     "end_time": "2023-07-14T10:24:48.896131Z",
     "start_time": "2023-07-14T10:24:48.885072Z"
    }
   },
   "outputs": [],
   "source": [
    "df=df[df['Salary']<=100000]\n",
    "\n",
    "df=df[df['Salary']>=10000]\n",
    "df=df[df['Country']!='Other']"
   ]
  },
  {
   "cell_type": "code",
   "execution_count": 24,
   "metadata": {
    "ExecuteTime": {
     "end_time": "2023-07-14T10:24:51.057519Z",
     "start_time": "2023-07-14T10:24:50.873097Z"
    }
   },
   "outputs": [
    {
     "data": {
      "text/plain": "<Figure size 1200x700 with 1 Axes>",
      "image/png": "[encoded data removed]"
     },
     "metadata": {},
     "output_type": "display_data"
    }
   ],
   "source": [
    "fig,ax =plt.subplots(1,1,figsize=(12,7))\n",
    "df.boxplot('Salary','Country',ax=ax)\n",
    "plt.suptitle('Salary(US$) v Country')\n",
    "plt.title('')\n",
    "plt.ylabel('Salary')\n",
    "plt.xticks(rotation=90)\n",
    "plt.show()"
   ]
  },
  {
   "cell_type": "code",
   "execution_count": 498,
   "metadata": {},
   "outputs": [
    {
     "data": {
      "text/plain": [
       "array(['5', '6', '2', '4', '22', '20', '9', '3', '8', '14', '15', '10',\n",
       "       '7', '19', '12', '1', '11', 'Less than 1 year', '37', '46', '13',\n",
       "       '24', '21', '23', '27', '16', '17', '34', '35', '18', '25', '26',\n",
       "       '30', '36', '32', '28', '29', '33', '31', '40', '45', '38', '41',\n",
       "       '42', 'More than 50 years', '48', '47', '44', '39', '49', '50',\n",
       "       '43'], dtype=object)"
      ]
     },
     "execution_count": 498,
     "metadata": {},
     "output_type": "execute_result"
    }
   ],
   "source": [
    "df['YearsCodePro'].unique()"
   ]
  },
  {
   "cell_type": "code",
   "execution_count": 25,
   "metadata": {
    "ExecuteTime": {
     "end_time": "2023-07-14T10:24:55.525859Z",
     "start_time": "2023-07-14T10:24:55.520753Z"
    }
   },
   "outputs": [],
   "source": [
    "def clean_experience(x):\n",
    "    if x==\"More than 50 years\":\n",
    "        return 50\n",
    "    elif x==\"Less than 1 year\":\n",
    "        return 0.5\n",
    "    return float(x)\n",
    "df['YearsCodePro']=df['YearsCodePro'].apply(clean_experience)"
   ]
  },
  {
   "cell_type": "code",
   "execution_count": 26,
   "metadata": {
    "ExecuteTime": {
     "end_time": "2023-07-14T10:24:57.900486Z",
     "start_time": "2023-07-14T10:24:57.896701Z"
    }
   },
   "outputs": [
    {
     "data": {
      "text/plain": "array([21. ,  3. , 15. ,  9. ,  2. ,  6. , 14. ,  5. , 10. ,  7. , 13. ,\n        4. , 11. , 25. , 16. , 12. ,  8. , 18. , 24. , 23. , 20. , 17. ,\n        0.5, 19. , 38. , 29. , 22. ,  1. , 28. , 27. , 34. , 30. , 31. ,\n       40. , 32. , 44. , 37. , 26. , 35. , 48. , 42. , 33. , 36. , 45. ,\n       50. , 43. , 39. , 46. , 41. , 49. , 47. ])"
     },
     "execution_count": 26,
     "metadata": {},
     "output_type": "execute_result"
    }
   ],
   "source": [
    "df['YearsCodePro'].unique()"
   ]
  },
  {
   "cell_type": "code",
   "execution_count": 27,
   "metadata": {
    "ExecuteTime": {
     "end_time": "2023-07-14T10:25:01.543025Z",
     "start_time": "2023-07-14T10:25:01.525177Z"
    }
   },
   "outputs": [
    {
     "data": {
      "text/plain": "array(['Some college/university study without earning a degree',\n       'Bachelor’s degree (B.A., B.S., B.Eng., etc.)',\n       'Master’s degree (M.A., M.S., M.Eng., MBA, etc.)',\n       'Professional degree (JD, MD, Ph.D, Ed.D, etc.)',\n       'Associate degree (A.A., A.S., etc.)',\n       'Secondary school (e.g. American high school, German Realschule or Gymnasium, etc.)',\n       'Primary/elementary school', 'Something else'], dtype=object)"
     },
     "execution_count": 27,
     "metadata": {},
     "output_type": "execute_result"
    }
   ],
   "source": [
    "df['EdLevel'].unique()"
   ]
  },
  {
   "cell_type": "code",
   "execution_count": 28,
   "metadata": {
    "ExecuteTime": {
     "end_time": "2023-07-14T10:25:17.931160Z",
     "start_time": "2023-07-14T10:25:17.917921Z"
    }
   },
   "outputs": [],
   "source": [
    "def clean_education(x):\n",
    "    if 'Bachelor’s degree' in x:\n",
    "        return 'Bachelor’s degree'\n",
    "    elif 'Master’s degree' in x:\n",
    "        return 'Master’s degree'\n",
    "    elif 'Professional degree' in x:\n",
    "        return 'Post Grad'\n",
    "    return 'Less then Bachelor'\n",
    "df['EdLevel']=df['EdLevel'].apply(clean_education)"
   ]
  },
  {
   "cell_type": "code",
   "execution_count": 29,
   "metadata": {
    "ExecuteTime": {
     "end_time": "2023-07-14T10:25:21.638828Z",
     "start_time": "2023-07-14T10:25:21.633780Z"
    }
   },
   "outputs": [
    {
     "data": {
      "text/plain": "array(['Less then Bachelor', 'Bachelor’s degree', 'Master’s degree',\n       'Post Grad'], dtype=object)"
     },
     "execution_count": 29,
     "metadata": {},
     "output_type": "execute_result"
    }
   ],
   "source": [
    "df['EdLevel'].unique()"
   ]
  },
  {
   "cell_type": "code",
   "execution_count": 30,
   "metadata": {
    "ExecuteTime": {
     "end_time": "2023-07-14T10:25:23.794385Z",
     "start_time": "2023-07-14T10:25:23.713880Z"
    }
   },
   "outputs": [],
   "source": [
    "from sklearn.preprocessing import LabelEncoder"
   ]
  },
  {
   "attachments": {},
   "cell_type": "markdown",
   "metadata": {},
   "source": [
    "label incoder"
   ]
  },
  {
   "cell_type": "code",
   "execution_count": 31,
   "metadata": {
    "ExecuteTime": {
     "end_time": "2023-07-14T10:25:27.763548Z",
     "start_time": "2023-07-14T10:25:27.751750Z"
    }
   },
   "outputs": [
    {
     "data": {
      "text/plain": "array([1, 0, 2, 3])"
     },
     "execution_count": 31,
     "metadata": {},
     "output_type": "execute_result"
    }
   ],
   "source": [
    "le_education=LabelEncoder()\n",
    "df['EdLevel']=le_education.fit_transform(df['EdLevel'])\n",
    "df['EdLevel'].unique()"
   ]
  },
  {
   "cell_type": "code",
   "execution_count": 32,
   "metadata": {
    "ExecuteTime": {
     "end_time": "2023-07-14T10:25:33.849339Z",
     "start_time": "2023-07-14T10:25:33.836333Z"
    }
   },
   "outputs": [
    {
     "data": {
      "text/plain": "array([15, 16, 17,  0, 13,  4,  5, 12,  1,  8,  9,  6,  2, 14, 11,  3, 10,\n        7])"
     },
     "execution_count": 32,
     "metadata": {},
     "output_type": "execute_result"
    }
   ],
   "source": [
    "le_country=LabelEncoder()\n",
    "df['Country']=le_country.fit_transform(df['Country'])\n",
    "df['Country'].unique()"
   ]
  },
  {
   "cell_type": "code",
   "execution_count": 33,
   "metadata": {
    "ExecuteTime": {
     "end_time": "2023-07-14T10:25:36.686882Z",
     "start_time": "2023-07-14T10:25:36.679688Z"
    }
   },
   "outputs": [],
   "source": [
    "x=df.drop('Salary',axis=1)\n"
   ]
  },
  {
   "cell_type": "code",
   "execution_count": 38,
   "metadata": {
    "ExecuteTime": {
     "end_time": "2023-07-14T10:28:03.510549Z",
     "start_time": "2023-07-14T10:28:03.504482Z"
    }
   },
   "outputs": [
    {
     "data": {
      "text/plain": "       Country  EdLevel  YearsCodePro\n5           15        1          21.0\n7           16        0           3.0\n8           17        2          15.0\n11           0        0           9.0\n12          16        0           9.0\n...        ...      ...           ...\n89160       17        3           5.0\n89162        1        2          24.0\n89167        6        0           2.0\n89170        4        2           9.0\n89171       17        2           9.0\n\n[23263 rows x 3 columns]",
      "text/html": "<div>\n<style scoped>\n    .dataframe tbody tr th:only-of-type {\n        vertical-align: middle;\n    }\n\n    .dataframe tbody tr th {\n        vertical-align: top;\n    }\n\n    .dataframe thead th {\n        text-align: right;\n    }\n</style>\n<table border=\"1\" class=\"dataframe\">\n  <thead>\n    <tr style=\"text-align: right;\">\n      <th></th>\n      <th>Country</th>\n      <th>EdLevel</th>\n      <th>YearsCodePro</th>\n    </tr>\n  </thead>\n  <tbody>\n    <tr>\n      <th>5</th>\n      <td>15</td>\n      <td>1</td>\n      <td>21.0</td>\n    </tr>\n    <tr>\n      <th>7</th>\n      <td>16</td>\n      <td>0</td>\n      <td>3.0</td>\n    </tr>\n    <tr>\n      <th>8</th>\n      <td>17</td>\n      <td>2</td>\n      <td>15.0</td>\n    </tr>\n    <tr>\n      <th>11</th>\n      <td>0</td>\n      <td>0</td>\n      <td>9.0</td>\n    </tr>\n    <tr>\n      <th>12</th>\n      <td>16</td>\n      <td>0</td>\n      <td>9.0</td>\n    </tr>\n    <tr>\n      <th>...</th>\n      <td>...</td>\n      <td>...</td>\n      <td>...</td>\n    </tr>\n    <tr>\n      <th>89160</th>\n      <td>17</td>\n      <td>3</td>\n      <td>5.0</td>\n    </tr>\n    <tr>\n      <th>89162</th>\n      <td>1</td>\n      <td>2</td>\n      <td>24.0</td>\n    </tr>\n    <tr>\n      <th>89167</th>\n      <td>6</td>\n      <td>0</td>\n      <td>2.0</td>\n    </tr>\n    <tr>\n      <th>89170</th>\n      <td>4</td>\n      <td>2</td>\n      <td>9.0</td>\n    </tr>\n    <tr>\n      <th>89171</th>\n      <td>17</td>\n      <td>2</td>\n      <td>9.0</td>\n    </tr>\n  </tbody>\n</table>\n<p>23263 rows × 3 columns</p>\n</div>"
     },
     "execution_count": 38,
     "metadata": {},
     "output_type": "execute_result"
    }
   ],
   "source": [
    "x"
   ]
  },
  {
   "cell_type": "code",
   "execution_count": 39,
   "outputs": [],
   "source": [
    "y=df['Salary']"
   ],
   "metadata": {
    "collapsed": false,
    "ExecuteTime": {
     "end_time": "2023-07-14T10:28:04.870095Z",
     "start_time": "2023-07-14T10:28:04.838166Z"
    }
   }
  },
  {
   "cell_type": "code",
   "execution_count": 35,
   "metadata": {
    "ExecuteTime": {
     "end_time": "2023-07-14T10:25:43.557701Z",
     "start_time": "2023-07-14T10:25:43.474994Z"
    }
   },
   "outputs": [],
   "source": [
    "from sklearn.linear_model import LinearRegression"
   ]
  },
  {
   "cell_type": "code",
   "execution_count": 40,
   "metadata": {
    "ExecuteTime": {
     "end_time": "2023-07-14T10:28:07.846921Z",
     "start_time": "2023-07-14T10:28:07.839952Z"
    }
   },
   "outputs": [],
   "source": [
    "from sklearn.tree import DecisionTreeRegressor\n"
   ]
  },
  {
   "cell_type": "code",
   "execution_count": 41,
   "metadata": {
    "ExecuteTime": {
     "end_time": "2023-07-14T10:28:08.446789Z",
     "start_time": "2023-07-14T10:28:08.430344Z"
    }
   },
   "outputs": [
    {
     "data": {
      "text/plain": "DecisionTreeRegressor(random_state=0)",
      "text/html": "<style>#sk-container-id-1 {color: black;}#sk-container-id-1 pre{padding: 0;}#sk-container-id-1 div.sk-toggleable {background-color: white;}#sk-container-id-1 label.sk-toggleable__label {cursor: pointer;display: block;width: 100%;margin-bottom: 0;padding: 0.3em;box-sizing: border-box;text-align: center;}#sk-container-id-1 label.sk-toggleable__label-arrow:before {content: \"▸\";float: left;margin-right: 0.25em;color: #696969;}#sk-container-id-1 label.sk-toggleable__label-arrow:hover:before {color: black;}#sk-container-id-1 div.sk-estimator:hover label.sk-toggleable__label-arrow:before {color: black;}#sk-container-id-1 div.sk-toggleable__content {max-height: 0;max-width: 0;overflow: hidden;text-align: left;background-color: #f0f8ff;}#sk-container-id-1 div.sk-toggleable__content pre {margin: 0.2em;color: black;border-radius: 0.25em;background-color: #f0f8ff;}#sk-container-id-1 input.sk-toggleable__control:checked~div.sk-toggleable__content {max-height: 200px;max-width: 100%;overflow: auto;}#sk-container-id-1 input.sk-toggleable__control:checked~label.sk-toggleable__label-arrow:before {content: \"▾\";}#sk-container-id-1 div.sk-estimator input.sk-toggleable__control:checked~label.sk-toggleable__label {background-color: #d4ebff;}#sk-container-id-1 div.sk-label input.sk-toggleable__control:checked~label.sk-toggleable__label {background-color: #d4ebff;}#sk-container-id-1 input.sk-hidden--visually {border: 0;clip: rect(1px 1px 1px 1px);clip: rect(1px, 1px, 1px, 1px);height: 1px;margin: -1px;overflow: hidden;padding: 0;position: absolute;width: 1px;}#sk-container-id-1 div.sk-estimator {font-family: monospace;background-color: #f0f8ff;border: 1px dotted black;border-radius: 0.25em;box-sizing: border-box;margin-bottom: 0.5em;}#sk-container-id-1 div.sk-estimator:hover {background-color: #d4ebff;}#sk-container-id-1 div.sk-parallel-item::after {content: \"\";width: 100%;border-bottom: 1px solid gray;flex-grow: 1;}#sk-container-id-1 div.sk-label:hover label.sk-toggleable__label {background-color: #d4ebff;}#sk-container-id-1 div.sk-serial::before {content: \"\";position: absolute;border-left: 1px solid gray;box-sizing: border-box;top: 0;bottom: 0;left: 50%;z-index: 0;}#sk-container-id-1 div.sk-serial {display: flex;flex-direction: column;align-items: center;background-color: white;padding-right: 0.2em;padding-left: 0.2em;position: relative;}#sk-container-id-1 div.sk-item {position: relative;z-index: 1;}#sk-container-id-1 div.sk-parallel {display: flex;align-items: stretch;justify-content: center;background-color: white;position: relative;}#sk-container-id-1 div.sk-item::before, #sk-container-id-1 div.sk-parallel-item::before {content: \"\";position: absolute;border-left: 1px solid gray;box-sizing: border-box;top: 0;bottom: 0;left: 50%;z-index: -1;}#sk-container-id-1 div.sk-parallel-item {display: flex;flex-direction: column;z-index: 1;position: relative;background-color: white;}#sk-container-id-1 div.sk-parallel-item:first-child::after {align-self: flex-end;width: 50%;}#sk-container-id-1 div.sk-parallel-item:last-child::after {align-self: flex-start;width: 50%;}#sk-container-id-1 div.sk-parallel-item:only-child::after {width: 0;}#sk-container-id-1 div.sk-dashed-wrapped {border: 1px dashed gray;margin: 0 0.4em 0.5em 0.4em;box-sizing: border-box;padding-bottom: 0.4em;background-color: white;}#sk-container-id-1 div.sk-label label {font-family: monospace;font-weight: bold;display: inline-block;line-height: 1.2em;}#sk-container-id-1 div.sk-label-container {text-align: center;}#sk-container-id-1 div.sk-container {/* jupyter's `normalize.less` sets `[hidden] { display: none; }` but bootstrap.min.css set `[hidden] { display: none !important; }` so we also need the `!important` here to be able to override the default hidden behavior on the sphinx rendered scikit-learn.org. See: https://github.com/scikit-learn/scikit-learn/issues/21755 */display: inline-block !important;position: relative;}#sk-container-id-1 div.sk-text-repr-fallback {display: none;}</style><div id=\"sk-container-id-1\" class=\"sk-top-container\"><div class=\"sk-text-repr-fallback\"><pre>DecisionTreeRegressor(random_state=0)</pre><b>In a Jupyter environment, please rerun this cell to show the HTML representation or trust the notebook. <br />On GitHub, the HTML representation is unable to render, please try loading this page with nbviewer.org.</b></div><div class=\"sk-container\" hidden><div class=\"sk-item\"><div class=\"sk-estimator sk-toggleable\"><input class=\"sk-toggleable__control sk-hidden--visually\" id=\"sk-estimator-id-1\" type=\"checkbox\" checked><label for=\"sk-estimator-id-1\" class=\"sk-toggleable__label sk-toggleable__label-arrow\">DecisionTreeRegressor</label><div class=\"sk-toggleable__content\"><pre>DecisionTreeRegressor(random_state=0)</pre></div></div></div></div></div>"
     },
     "execution_count": 41,
     "metadata": {},
     "output_type": "execute_result"
    }
   ],
   "source": [
    "dec_tree_reg=DecisionTreeRegressor(random_state=0)\n",
    "dec_tree_reg.fit(x,y.values)"
   ]
  },
  {
   "cell_type": "code",
   "execution_count": 42,
   "metadata": {
    "ExecuteTime": {
     "end_time": "2023-07-14T10:28:10.231581Z",
     "start_time": "2023-07-14T10:28:10.215109Z"
    }
   },
   "outputs": [],
   "source": [
    "y_pred1=dec_tree_reg.predict(x)"
   ]
  },
  {
   "cell_type": "code",
   "execution_count": 43,
   "metadata": {
    "ExecuteTime": {
     "end_time": "2023-07-14T10:28:11.352408Z",
     "start_time": "2023-07-14T10:28:11.347549Z"
    }
   },
   "outputs": [
    {
     "data": {
      "text/plain": "LinearRegression()",
      "text/html": "<style>#sk-container-id-2 {color: black;}#sk-container-id-2 pre{padding: 0;}#sk-container-id-2 div.sk-toggleable {background-color: white;}#sk-container-id-2 label.sk-toggleable__label {cursor: pointer;display: block;width: 100%;margin-bottom: 0;padding: 0.3em;box-sizing: border-box;text-align: center;}#sk-container-id-2 label.sk-toggleable__label-arrow:before {content: \"▸\";float: left;margin-right: 0.25em;color: #696969;}#sk-container-id-2 label.sk-toggleable__label-arrow:hover:before {color: black;}#sk-container-id-2 div.sk-estimator:hover label.sk-toggleable__label-arrow:before {color: black;}#sk-container-id-2 div.sk-toggleable__content {max-height: 0;max-width: 0;overflow: hidden;text-align: left;background-color: #f0f8ff;}#sk-container-id-2 div.sk-toggleable__content pre {margin: 0.2em;color: black;border-radius: 0.25em;background-color: #f0f8ff;}#sk-container-id-2 input.sk-toggleable__control:checked~div.sk-toggleable__content {max-height: 200px;max-width: 100%;overflow: auto;}#sk-container-id-2 input.sk-toggleable__control:checked~label.sk-toggleable__label-arrow:before {content: \"▾\";}#sk-container-id-2 div.sk-estimator input.sk-toggleable__control:checked~label.sk-toggleable__label {background-color: #d4ebff;}#sk-container-id-2 div.sk-label input.sk-toggleable__control:checked~label.sk-toggleable__label {background-color: #d4ebff;}#sk-container-id-2 input.sk-hidden--visually {border: 0;clip: rect(1px 1px 1px 1px);clip: rect(1px, 1px, 1px, 1px);height: 1px;margin: -1px;overflow: hidden;padding: 0;position: absolute;width: 1px;}#sk-container-id-2 div.sk-estimator {font-family: monospace;background-color: #f0f8ff;border: 1px dotted black;border-radius: 0.25em;box-sizing: border-box;margin-bottom: 0.5em;}#sk-container-id-2 div.sk-estimator:hover {background-color: #d4ebff;}#sk-container-id-2 div.sk-parallel-item::after {content: \"\";width: 100%;border-bottom: 1px solid gray;flex-grow: 1;}#sk-container-id-2 div.sk-label:hover label.sk-toggleable__label {background-color: #d4ebff;}#sk-container-id-2 div.sk-serial::before {content: \"\";position: absolute;border-left: 1px solid gray;box-sizing: border-box;top: 0;bottom: 0;left: 50%;z-index: 0;}#sk-container-id-2 div.sk-serial {display: flex;flex-direction: column;align-items: center;background-color: white;padding-right: 0.2em;padding-left: 0.2em;position: relative;}#sk-container-id-2 div.sk-item {position: relative;z-index: 1;}#sk-container-id-2 div.sk-parallel {display: flex;align-items: stretch;justify-content: center;background-color: white;position: relative;}#sk-container-id-2 div.sk-item::before, #sk-container-id-2 div.sk-parallel-item::before {content: \"\";position: absolute;border-left: 1px solid gray;box-sizing: border-box;top: 0;bottom: 0;left: 50%;z-index: -1;}#sk-container-id-2 div.sk-parallel-item {display: flex;flex-direction: column;z-index: 1;position: relative;background-color: white;}#sk-container-id-2 div.sk-parallel-item:first-child::after {align-self: flex-end;width: 50%;}#sk-container-id-2 div.sk-parallel-item:last-child::after {align-self: flex-start;width: 50%;}#sk-container-id-2 div.sk-parallel-item:only-child::after {width: 0;}#sk-container-id-2 div.sk-dashed-wrapped {border: 1px dashed gray;margin: 0 0.4em 0.5em 0.4em;box-sizing: border-box;padding-bottom: 0.4em;background-color: white;}#sk-container-id-2 div.sk-label label {font-family: monospace;font-weight: bold;display: inline-block;line-height: 1.2em;}#sk-container-id-2 div.sk-label-container {text-align: center;}#sk-container-id-2 div.sk-container {/* jupyter's `normalize.less` sets `[hidden] { display: none; }` but bootstrap.min.css set `[hidden] { display: none !important; }` so we also need the `!important` here to be able to override the default hidden behavior on the sphinx rendered scikit-learn.org. See: https://github.com/scikit-learn/scikit-learn/issues/21755 */display: inline-block !important;position: relative;}#sk-container-id-2 div.sk-text-repr-fallback {display: none;}</style><div id=\"sk-container-id-2\" class=\"sk-top-container\"><div class=\"sk-text-repr-fallback\"><pre>LinearRegression()</pre><b>In a Jupyter environment, please rerun this cell to show the HTML representation or trust the notebook. <br />On GitHub, the HTML representation is unable to render, please try loading this page with nbviewer.org.</b></div><div class=\"sk-container\" hidden><div class=\"sk-item\"><div class=\"sk-estimator sk-toggleable\"><input class=\"sk-toggleable__control sk-hidden--visually\" id=\"sk-estimator-id-2\" type=\"checkbox\" checked><label for=\"sk-estimator-id-2\" class=\"sk-toggleable__label sk-toggleable__label-arrow\">LinearRegression</label><div class=\"sk-toggleable__content\"><pre>LinearRegression()</pre></div></div></div></div></div>"
     },
     "execution_count": 43,
     "metadata": {},
     "output_type": "execute_result"
    }
   ],
   "source": [
    "linear_reg=LinearRegression()\n",
    "linear_reg.fit(x,y.values)"
   ]
  },
  {
   "cell_type": "code",
   "execution_count": 44,
   "metadata": {
    "ExecuteTime": {
     "end_time": "2023-07-14T10:28:12.828512Z",
     "start_time": "2023-07-14T10:28:12.723634Z"
    }
   },
   "outputs": [],
   "source": [
    "y_pred=linear_reg.predict(x)"
   ]
  },
  {
   "cell_type": "code",
   "execution_count": 45,
   "metadata": {
    "ExecuteTime": {
     "end_time": "2023-07-14T10:28:14.114199Z",
     "start_time": "2023-07-14T10:28:14.107464Z"
    }
   },
   "outputs": [],
   "source": [
    "from sklearn.metrics import mean_squared_error"
   ]
  },
  {
   "cell_type": "code",
   "execution_count": 46,
   "metadata": {
    "ExecuteTime": {
     "end_time": "2023-07-14T10:28:15.190118Z",
     "start_time": "2023-07-14T10:28:15.187224Z"
    }
   },
   "outputs": [],
   "source": [
    "error=np.sqrt(mean_squared_error(y,y_pred))"
   ]
  },
  {
   "cell_type": "code",
   "execution_count": 47,
   "metadata": {
    "ExecuteTime": {
     "end_time": "2023-07-14T10:28:15.863520Z",
     "start_time": "2023-07-14T10:28:15.858713Z"
    }
   },
   "outputs": [
    {
     "data": {
      "text/plain": "22837.964080881808"
     },
     "execution_count": 47,
     "metadata": {},
     "output_type": "execute_result"
    }
   ],
   "source": [
    "error"
   ]
  },
  {
   "cell_type": "code",
   "execution_count": 48,
   "metadata": {
    "ExecuteTime": {
     "end_time": "2023-07-14T10:28:16.629299Z",
     "start_time": "2023-07-14T10:28:16.626233Z"
    }
   },
   "outputs": [],
   "source": [
    "error1=np.sqrt(mean_squared_error(y,y_pred1))\n"
   ]
  },
  {
   "cell_type": "code",
   "execution_count": 49,
   "metadata": {
    "ExecuteTime": {
     "end_time": "2023-07-14T10:28:17.332189Z",
     "start_time": "2023-07-14T10:28:17.303653Z"
    }
   },
   "outputs": [
    {
     "data": {
      "text/plain": "16573.17114358692"
     },
     "execution_count": 49,
     "metadata": {},
     "output_type": "execute_result"
    }
   ],
   "source": [
    "error1"
   ]
  },
  {
   "cell_type": "code",
   "execution_count": 50,
   "metadata": {
    "ExecuteTime": {
     "end_time": "2023-07-14T10:28:18.007214Z",
     "start_time": "2023-07-14T10:28:18.001801Z"
    }
   },
   "outputs": [],
   "source": [
    "Z=np.array([['India','Bachelor’s degree',15]])"
   ]
  },
  {
   "cell_type": "code",
   "execution_count": 51,
   "metadata": {
    "ExecuteTime": {
     "end_time": "2023-07-14T10:28:18.696671Z",
     "start_time": "2023-07-14T10:28:18.691812Z"
    }
   },
   "outputs": [],
   "source": [
    "Z[:,0]=le_country.transform(Z[:,0])\n",
    "Z[:,1]=le_education.transform(Z[:,1])\n"
   ]
  },
  {
   "cell_type": "code",
   "execution_count": 52,
   "metadata": {
    "ExecuteTime": {
     "end_time": "2023-07-14T10:28:19.475387Z",
     "start_time": "2023-07-14T10:28:19.468552Z"
    }
   },
   "outputs": [
    {
     "name": "stderr",
     "output_type": "stream",
     "text": [
      "/Users/admin/PycharmProjects/Survey/venv/lib/python3.11/site-packages/sklearn/base.py:464: UserWarning: X does not have valid feature names, but DecisionTreeRegressor was fitted with feature names\n",
      "  warnings.warn(\n"
     ]
    },
    {
     "data": {
      "text/plain": "array([61796.15384615])"
     },
     "execution_count": 52,
     "metadata": {},
     "output_type": "execute_result"
    }
   ],
   "source": [
    "y_pred=dec_tree_reg.predict(Z)\n",
    "y_pred"
   ]
  },
  {
   "cell_type": "code",
   "execution_count": 53,
   "metadata": {
    "ExecuteTime": {
     "end_time": "2023-07-14T10:28:21.419795Z",
     "start_time": "2023-07-14T10:28:21.409673Z"
    }
   },
   "outputs": [],
   "source": [
    "import pickle"
   ]
  },
  {
   "cell_type": "code",
   "execution_count": 54,
   "metadata": {
    "ExecuteTime": {
     "end_time": "2023-07-14T10:28:22.368507Z",
     "start_time": "2023-07-14T10:28:22.362704Z"
    }
   },
   "outputs": [],
   "source": [
    "data={\"model\":dec_tree_reg,\"le_country\":le_country,\"le_education\":le_education}\n",
    "with open('saved_steps.pkl','wb') as file:\n",
    "    pickle.dump(data,file)"
   ]
  },
  {
   "cell_type": "code",
   "execution_count": 55,
   "metadata": {
    "ExecuteTime": {
     "end_time": "2023-07-14T10:28:23.260540Z",
     "start_time": "2023-07-14T10:28:23.250005Z"
    }
   },
   "outputs": [],
   "source": [
    "with open('saved_steps.pkl','rb') as file:\n",
    "    data=pickle.load(file)\n",
    "regressor=data['model']\n",
    "le_country=data[\"le_country\"]\n",
    "le_education=data[\"le_education\"]"
   ]
  },
  {
   "cell_type": "code",
   "execution_count": 56,
   "metadata": {
    "ExecuteTime": {
     "end_time": "2023-07-14T10:28:29.434226Z",
     "start_time": "2023-07-14T10:28:29.428634Z"
    }
   },
   "outputs": [
    {
     "name": "stderr",
     "output_type": "stream",
     "text": [
      "/Users/admin/PycharmProjects/Survey/venv/lib/python3.11/site-packages/sklearn/base.py:464: UserWarning: X does not have valid feature names, but DecisionTreeRegressor was fitted with feature names\n",
      "  warnings.warn(\n"
     ]
    },
    {
     "data": {
      "text/plain": "array([61796.15384615])"
     },
     "execution_count": 56,
     "metadata": {},
     "output_type": "execute_result"
    }
   ],
   "source": [
    "y_pred=regressor.predict(Z)\n",
    "y_pred"
   ]
  },
  {
   "cell_type": "code",
   "execution_count": null,
   "metadata": {},
   "outputs": [],
   "source": []
  }
 ],
 "metadata": {
  "kernelspec": {
   "display_name": "Python 3",
   "language": "python",
   "name": "python3"
  },
  "language_info": {
   "codemirror_mode": {
    "name": "ipython",
    "version": 3
   },
   "file_extension": ".py",
   "mimetype": "text/x-python",
   "name": "python",
   "nbconvert_exporter": "python",
   "pygments_lexer": "ipython3",
   "version": "3.11.3"
  },
  "orig_nbformat": 4
 },
 "nbformat": 4,
 "nbformat_minor": 2
}
